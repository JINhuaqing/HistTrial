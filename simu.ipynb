{
 "cells": [
  {
   "cell_type": "code",
   "execution_count": 9,
   "metadata": {},
   "outputs": [],
   "source": [
    "#rm(list=ls())\n",
    "library(magrittr)\n",
    "library(dplyr)\n",
    "setwd(\"/home/huaqingj/MyResearch/HistTrial\")\n",
    "#setwd(\"C:/Users/JINHU/Documents/ProjectCode/HistTrial\")\n",
    "source(\"utils.R\")\n",
    "library(parallel)"
   ]
  },
  {
   "cell_type": "code",
   "execution_count": 10,
   "metadata": {},
   "outputs": [],
   "source": [
    "info.est.fn <- function(Theta0s, data, H, lam, is.borrow=TRUE, maxit=100){\n",
    "    #args:\n",
    "    #  Theta0s: Estimated ys based on historical data\n",
    "    #  data: the dataset, n x (2+p): [Y, Z, Xs]\n",
    "    #  H: cov mat, p x p\n",
    "    #  lam: The penalty parameters\n",
    "    #  is.borrow: if true, borrows from Theta0s, otherwise, no borrowing\n",
    "    #  maxit: Maximal number of times for iteration\n",
    "    \n",
    "    phi0.tk <- c()\n",
    "    Mu0s.tk <- list()\n",
    "    Tau2s.tk <- list()\n",
    "    Xs <- data[, 3:6]\n",
    "    n <- dim(Xs)[1]\n",
    "    phi0 <- 0.5\n",
    "    Tau2s <- rep(0, n)\n",
    "    \n",
    "    for (i in 1:maxit){\n",
    "        Mu0s <- mOptMu0(as.matrix(Xs), data, Tau2s, phi0, Theta0s, H)\n",
    "        Mu0s.tk[[i]] <- Mu0s\n",
    "        \n",
    "        if (is.borrow){\n",
    "            Tau2s  <- mOptTau(as.matrix(Xs), data, Mu0s, lam, Theta0s, H)\n",
    "        }\n",
    "        Tau2s.tk[[i]] <- Tau2s\n",
    "        \n",
    "        #res <- optPhi(data, Mu0s)\n",
    "        #phi0 <- res$root\n",
    "        phi0.tk <- c(phi0.tk, phi0)\n",
    "        \n",
    "        if (i > 1){\n",
    "            err.tau2 <- sum((Tau2s.tk[[i]] - Tau2s.tk[[i-1]])**2)\n",
    "            err.mu <- sum((Mu0s.tk[[i]] - Mu0s.tk[[i-1]])**2)\n",
    "            err.phi <- (phi0.tk[i] - phi0.tk[i-1])**2\n",
    "            \n",
    "            err.all <- max(c(err.tau2, err.mu, err.phi))\n",
    "            if (err.all < 1e-5){\n",
    "                break\n",
    "            }\n",
    "        }\n",
    "        \n",
    "    }\n",
    "    \n",
    "    res <- list(tau2s=Tau2s, mu0s=Mu0s, phi0=phi0, mu0tk=Mu0s.tk, phi0tk=phi0.tk, tau2stk=Tau2s.tk,\n",
    "                theta0s=Theta0s, H=H, data=data, lam=lam)\n",
    "    res\n",
    "}"
   ]
  },
  {
   "cell_type": "code",
   "execution_count": 11,
   "metadata": {},
   "outputs": [],
   "source": [
    "fun <- function(i){\n",
    "    print(i)\n",
    "    Xs <- gen.Data.Xs(n0, x.tps)\n",
    "    idx0 <- sample.int(n0, size=floor(n0/2))\n",
    "    Zs <- rep(1, n0)\n",
    "    Zs[idx0] <- 0\n",
    "    \n",
    "    \n",
    "    betMat <- sub.Paras.fn(Xs, betass)\n",
    "    nerrs <- rnorm(n0, sd=phi0)\n",
    "    Ys <- curMean.fn(Xs, Zs, betMat, b) + nerrs\n",
    "    data <- cbind(Ys, Zs, Xs)\n",
    "    data <- as.data.frame(data)\n",
    "    colnames(data)[1:2] <- c(\"Y\", \"Z\")\n",
    "    \n",
    "    \n",
    "    # no borrowing \n",
    "    Zs.no <- Zs\n",
    "    Ys.no <- curMean.fn(Xs, Zs.no, betMat, b) + nerrs\n",
    "    data.no <- cbind(Ys.no, Zs.no, Xs)\n",
    "    data.no <- as.data.frame(data.no)\n",
    "    colnames(data)[1:2] <- c(\"Y\", \"Z\")\n",
    "    \n",
    "    for (j in (n0+1):N){\n",
    "        cx <- unlist(gen.Data.Xs(1, x.tps))\n",
    "        \n",
    "        # H <- diag(c(bw.nrd(data$X1), bw.nrd(data$X2), bw.nrd(data$X3), bw.nrd(data$X4)))\n",
    "        alpMat <- sub.Paras.fn(Xs, alpss)\n",
    "        Theta0s <- curMean.fn(Xs, Zs, alpMat, b=0)\n",
    "        res <- info.est.fn(Theta0s, data, H, lam)\n",
    "        res0 <- info.est.fn(Theta0s, data, H, lam, is.borrow=FALSE)\n",
    "        \n",
    "        var.info <- post.var.mu0.fn(cx, res)\n",
    "        var.ref <- post.var.mu0.fn(cx, res0)\n",
    "        R <- var.ref/var.info\n",
    "        ass.res <- RPS.design(cx, data[, 3:6], data$Z, hs, R)\n",
    "        ass.res.no <- RPS.design(cx, data[, 3:6], data.no$Z, hs, R=1)\n",
    "        # ass.res <- RBC.design(cx, data[, 3:6], data$Z, hs, R)\n",
    "        \n",
    "        Xs <- rbind(Xs, cx)\n",
    "        Zs <- c(Zs, ass.res$grp-1)\n",
    "        Zs.no <- c(Zs.no, ass.res.no$grp-1)\n",
    "        \n",
    "        curN <- dim(Xs)[1]\n",
    "        curBetMat <- sub.Paras.fn(Xs[curN, ], betass)\n",
    "        nerr <- rnorm(1, sd=phi0)\n",
    "        Y <- curMean.fn(Xs[curN, ], Zs[curN], curBetMat, b) + nerr\n",
    "        Ys <- c(Ys, Y)\n",
    "        data <- cbind(Ys, Zs, Xs)\n",
    "        data <- as.data.frame(data)\n",
    "        colnames(data)[1:2] <- c(\"Y\", \"Z\")\n",
    "        \n",
    "        Y.no <- curMean.fn(Xs[curN, ], Zs.no[curN], curBetMat, b) + nerr\n",
    "        Ys.no <- c(Ys.no, Y.no)\n",
    "        data.no <- cbind(Ys.no, Zs.no, Xs)\n",
    "        data.no <- as.data.frame(data.no)\n",
    "        colnames(data.no)[1:2] <- c(\"Y\", \"Z\")\n",
    "        \n",
    "        \n",
    "        if (j==N){\n",
    "            #H <- diag(c(bw.nrd(data$X1), bw.nrd(data$X2), bw.nrd(data$X3), bw.nrd(data$X4)))\n",
    "            alpMat <- sub.Paras.fn(Xs, alpss)\n",
    "            Theta0s <- curMean.fn(Xs, Zs, alpMat, b=0)\n",
    "            res <- info.est.fn(Theta0s, data, H, lam)\n",
    "            res.no <- info.est.fn(Theta0s, data.no, H, lam, is.borrow=FALSE)\n",
    "        }\n",
    "    }\n",
    "    \n",
    "    \n",
    "    res.mu1 <- mu1.est.fn(data$Y, data, H)\n",
    "    res.no.mu1 <- mu1.est.fn(data.no$Y, data.no, H)\n",
    "    trt.eff <- mean(mu1.efn(as.matrix(Xs), res.mu1)) -  mean(mu0.efn(as.matrix(Xs), res));trt.eff\n",
    "    trt.eff.no <- mean(mu1.efn(as.matrix(Xs), res.no.mu1)) -  mean(mu0.efn(as.matrix(Xs), res.no));trt.eff.no\n",
    "    c(trt.eff, trt.eff.no)\n",
    "}"
   ]
  },
  {
   "cell_type": "code",
   "execution_count": 12,
   "metadata": {},
   "outputs": [],
   "source": [
    "# parameters for current data \n",
    "betass <- list(\n",
    "              para1=c(2, 1, -1, 3, -2), \n",
    "              para2=c(3, 1, 2, 4, 2), \n",
    "              para3=c(0, -1, -1, 3, 2), \n",
    "              para4=c(2, 0, -1, 4, -2)\n",
    "                  )\n",
    "\n",
    "betass <- list(\n",
    "              para1=c(2, 1, -1, 3, -2), \n",
    "              para2=c(2, 1, -1, 3, -2), \n",
    "              para3=c(2, 1, -1, 3, -2), \n",
    "              para4=c(2, 1, -1, 3, -2)\n",
    "                  )\n",
    "# parameters for historical data\n",
    "alpss <-  list(para1=c(2, 1, -1, 3, -2), \n",
    "             para2=c(3, 1, 2, 4, 2), \n",
    "             para3=c(0, -1, -1, 3, 2), # switch para2 and para3\n",
    "             para4=c(2, 0, -1, 4, -2) )\n",
    "alpss <- betass\n",
    "b <- 2\n",
    "phi0 = phi1 = 0.5\n",
    "N <- 100 # total sample size\n",
    "# parameters\n",
    "lam <- 0.05\n",
    "hs <- rep(2.1, 4)\n",
    "x.tps <- c(2, 2, \"c\", \"c\")\n",
    "\n",
    "tXs <- gen.Data.Xs(1000, x.tps)\n",
    "H <- diag(c(bw.nrd(tXs[, 1]), bw.nrd(tXs[, 2]), bw.nrd(tXs[, 3]), bw.nrd(tXs[, 4])))\n",
    "#H <- diag(c(0.1, 0.1, 0.1, 0.1))\n",
    "\n",
    "# initial dataset\n",
    "n0 <- 20"
   ]
  },
  {
   "cell_type": "code",
   "execution_count": 13,
   "metadata": {},
   "outputs": [],
   "source": [
    "nSimu <- 100\n",
    "trt.effs <- mclapply(1:nSimu, fun, mc.cores=6)"
   ]
  },
  {
   "cell_type": "markdown",
   "metadata": {},
   "source": [
    "idxs <- sapply(1:nSimu, function(i){is.vector(trt.effs[[i]])})\n",
    "trt.effs <- trt.effs[idxs]"
   ]
  },
  {
   "cell_type": "code",
   "execution_count": 14,
   "metadata": {},
   "outputs": [
    {
     "data": {
      "image/png": "[encoded data removed]",
      "text/plain": [
       "plot without title"
      ]
     },
     "metadata": {
      "image/png": {
       "height": 420,
       "width": 420
      }
     },
     "output_type": "display_data"
    }
   ],
   "source": [
    "trt.effs.mat <- do.call(rbind, trt.effs)\n",
    "errs <- abs(trt.effs.mat - b)\n",
    "plot(errs[, 1], errs[, 2], xlim=c(0, 2), ylim=c(0, 2), ylab=\"no Borrow\", xlab=\"Borrow\")\n",
    "abline(a=0, b=1, col=2, lwd=2)"
   ]
  },
  {
   "cell_type": "code",
   "execution_count": 15,
   "metadata": {},
   "outputs": [
    {
     "data": {
      "text/html": [
       "<style>\n",
       ".dl-inline {width: auto; margin:0; padding: 0}\n",
       ".dl-inline>dt, .dl-inline>dd {float: none; width: auto; display: inline-block}\n",
       ".dl-inline>dt::after {content: \":\\0020\"; padding-right: .5ex}\n",
       ".dl-inline>dt:not(:first-of-type) {padding-left: .5ex}\n",
       "</style><dl class=dl-inline><dt>Borrow</dt><dd>0.124737508906068</dd><dt>no Borrow</dt><dd>0.127548032051958</dd></dl>\n"
      ],
      "text/latex": [
       "\\begin{description*}\n",
       "\\item[Borrow] 0.124737508906068\n",
       "\\item[no Borrow] 0.127548032051958\n",
       "\\end{description*}\n"
      ],
      "text/markdown": [
       "Borrow\n",
       ":   0.124737508906068no Borrow\n",
       ":   0.127548032051958\n",
       "\n"
      ],
      "text/plain": [
       "   Borrow no Borrow \n",
       "0.1247375 0.1275480 "
      ]
     },
     "metadata": {},
     "output_type": "display_data"
    },
    {
     "data": {
      "text/html": [
       "<table>\n",
       "<caption>A matrix: 2 × 3 of type dbl</caption>\n",
       "<thead>\n",
       "\t<tr><th></th><th scope=col>Low</th><th scope=col>Mean</th><th scope=col>Up</th></tr>\n",
       "</thead>\n",
       "<tbody>\n",
       "\t<tr><th scope=row>Borrow</th><td>0.1064302</td><td>0.1247375</td><td>0.1432455</td></tr>\n",
       "\t<tr><th scope=row>No Borrow</th><td>0.1092407</td><td>0.1275480</td><td>0.1460561</td></tr>\n",
       "</tbody>\n",
       "</table>\n"
      ],
      "text/latex": [
       "A matrix: 2 × 3 of type dbl\n",
       "\\begin{tabular}{r|lll}\n",
       "  & Low & Mean & Up\\\\\n",
       "\\hline\n",
       "\tBorrow & 0.1064302 & 0.1247375 & 0.1432455\\\\\n",
       "\tNo Borrow & 0.1092407 & 0.1275480 & 0.1460561\\\\\n",
       "\\end{tabular}\n"
      ],
      "text/markdown": [
       "\n",
       "A matrix: 2 × 3 of type dbl\n",
       "\n",
       "| <!--/--> | Low | Mean | Up |\n",
       "|---|---|---|---|\n",
       "| Borrow | 0.1064302 | 0.1247375 | 0.1432455 |\n",
       "| No Borrow | 0.1092407 | 0.1275480 | 0.1460561 |\n",
       "\n"
      ],
      "text/plain": [
       "          Low       Mean      Up       \n",
       "Borrow    0.1064302 0.1247375 0.1432455\n",
       "No Borrow 0.1092407 0.1275480 0.1460561"
      ]
     },
     "metadata": {},
     "output_type": "display_data"
    }
   ],
   "source": [
    "m.err <- colMeans(errs)\n",
    "names(m.err) <- c(\"Borrow\", \"no Borrow\")\n",
    "m.err\n",
    "err.se1 <- sd(errs[, 1])/sqrt(length(errs[, 1]))\n",
    "err.se2 <- sd(errs[, 2])/sqrt(length(errs[, 2]))\n",
    "err.CI <- c(m.err[1]-1.96*err.se1, m.err[1], m.err[1]+1.96*err.se2)\n",
    "err.CI.no <- c(m.err[2]-1.96*err.se1, m.err[2], m.err[2]+1.96*err.se2)\n",
    "CIs <- rbind(err.CI, err.CI.no)\n",
    "colnames(CIs) <- c(\"Low\", \"Mean\", \"Up\")\n",
    "rownames(CIs) <- c(\"Borrow\", \"No Borrow\")\n",
    "CIs"
   ]
  },
  {
   "cell_type": "code",
   "execution_count": null,
   "metadata": {},
   "outputs": [],
   "source": []
  }
 ],
 "metadata": {
  "kernelspec": {
   "display_name": "R",
   "language": "R",
   "name": "ir"
  },
  "language_info": {
   "codemirror_mode": "r",
   "file_extension": ".r",
   "mimetype": "text/x-r-source",
   "name": "R",
   "pygments_lexer": "r",
   "version": "3.6.3"
  }
 },
 "nbformat": 4,
 "nbformat_minor": 2
}
