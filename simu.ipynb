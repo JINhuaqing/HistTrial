{
 "cells": [
  {
   "cell_type": "code",
   "execution_count": 2,
   "metadata": {},
   "outputs": [],
   "source": [
    "#rm(list=ls())\n",
    "library(magrittr)\n",
    "library(dplyr)\n",
    "setwd(\"/home/huaqingj/MyResearch/HistTrial\")\n",
    "#setwd(\"C:/Users/JINHU/Documents/ProjectCode/HistTrial\")\n",
    "source(\"utils.R\")\n",
    "library(parallel)"
   ]
  },
  {
   "cell_type": "code",
   "execution_count": 3,
   "metadata": {},
   "outputs": [],
   "source": [
    "CI.fn <- function(errs){\n",
    "  m.v <- mean(errs)\n",
    "  sd.v <- sd(errs)\n",
    "  se <- sd.v/sqrt(length(errs))\n",
    "  low <- m.v - 1.96*se\n",
    "  up <- m.v + 1.96*se\n",
    "  rvs <- c(low, m.v, up)\n",
    "  names(rvs) <- c(\"lower\", \"mean\", \"upper\")\n",
    "  rvs\n",
    "}"
   ]
  },
  {
   "cell_type": "code",
   "execution_count": 36,
   "metadata": {},
   "outputs": [],
   "source": [
    "fun <- function(i){\n",
    "    print(i)\n",
    "    Xs <- gen.Data.Xs(n0, x.tps)\n",
    "    idx0 <- sample.int(n0, size=floor(n0/2))\n",
    "    Zs <- rep(1, n0)\n",
    "    Zs[idx0] <- 0\n",
    "    \n",
    "    \n",
    "    betMat <- sub.Paras.fn(Xs, betass)\n",
    "    nerrs <- rnorm(n0, sd=phi0)\n",
    "    Ys <- curMean.fn(Xs, Zs, betMat, b) + nerrs\n",
    "    data <- cbind(Ys, Zs, Xs)\n",
    "    data <- as.data.frame(data)\n",
    "    colnames(data)[1:2] <- c(\"Y\", \"Z\")\n",
    "    \n",
    "    \n",
    "    # no borrowing \n",
    "    Zs.no <- Zs\n",
    "    Ys.no <- curMean.fn(Xs, Zs.no, betMat, b) + nerrs\n",
    "    data.no <- cbind(Ys.no, Zs.no, Xs)\n",
    "    data.no <- as.data.frame(data.no)\n",
    "    colnames(data.no)[1:2] <- c(\"Y\", \"Z\")\n",
    "    \n",
    "    for (j in (n0+1):N){\n",
    "        cx <- unlist(gen.Data.Xs(1, x.tps))\n",
    "        \n",
    "        # H <- diag(c(bw.nrd(data$X1), bw.nrd(data$X2), bw.nrd(data$X3), bw.nrd(data$X4)))\n",
    "        alpMat <- sub.Paras.fn(Xs, alpss)\n",
    "        Theta0s <- curMean.fn(Xs, Zs, alpMat, b=0)\n",
    "        res <- info.est.fn(Theta0s, data, H, lam)\n",
    "        res0 <- info.est.fn(Theta0s, data, H, lam, is.borrow=FALSE)\n",
    "        \n",
    "        var.info <- post.var.mu0.fn(cx, res)\n",
    "        var.ref <- post.var.mu0.fn(cx, res0)\n",
    "        R <- var.ref/var.info\n",
    "        ass.res <- RPS.design(cx, data[, 3:6], data$Z, hs, R)\n",
    "        ass.res.no <- RPS.design(cx, data[, 3:6], data.no$Z, hs, R=1)\n",
    "        # ass.res <- RBC.design(cx, data[, 3:6], data$Z, hs, R)\n",
    "        \n",
    "        Xs <- rbind(Xs, cx)\n",
    "        Zs <- c(Zs, ass.res$grp-1)\n",
    "        Zs.no <- c(Zs.no, ass.res.no$grp-1)\n",
    "        \n",
    "        curN <- dim(Xs)[1]\n",
    "        curBetMat <- sub.Paras.fn(Xs[curN, ], betass)\n",
    "        nerr <- rnorm(1, sd=phi0)\n",
    "        Y <- curMean.fn(Xs[curN, ], Zs[curN], curBetMat, b) + nerr\n",
    "        Ys <- c(Ys, Y)\n",
    "        data <- cbind(Ys, Zs, Xs)\n",
    "        data <- as.data.frame(data)\n",
    "        colnames(data)[1:2] <- c(\"Y\", \"Z\")\n",
    "        \n",
    "        Y.no <- curMean.fn(Xs[curN, ], Zs.no[curN], curBetMat, b) + nerr\n",
    "        Ys.no <- c(Ys.no, Y.no)\n",
    "        data.no <- cbind(Ys.no, Zs.no, Xs)\n",
    "        data.no <- as.data.frame(data.no)\n",
    "        colnames(data.no)[1:2] <- c(\"Y\", \"Z\")\n",
    "        \n",
    "        \n",
    "    }\n",
    "    \n",
    "    alpMat <- sub.Paras.fn(Xs, alpss)\n",
    "    Theta0s <- curMean.fn(Xs, Zs, alpMat, b=0)\n",
    "    res <- info.est.fn(Theta0s, data, H, lam)\n",
    "    res.no <- info.est.fn(Theta0s, data.no, H, lam, is.borrow=FALSE)\n",
    "    \n",
    "    res.mu1 <- mu1.est.fn(data$Y, data, H)\n",
    "    res.no.mu1 <- mu1.est.fn(data.no$Y, data.no, H)\n",
    "    trt.eff <- mean(mu1.efn(as.matrix(Xs), res.mu1)) -  mean(mu0.efn(as.matrix(Xs), res));trt.eff\n",
    "    trt.eff.no <- mean(mu1.efn(as.matrix(Xs), res.no.mu1)) -  mean(mu0.efn(as.matrix(Xs), res.no));trt.eff.no\n",
    "    c(trt.eff, trt.eff.no)\n",
    "}"
   ]
  },
  {
   "cell_type": "code",
   "execution_count": 58,
   "metadata": {},
   "outputs": [],
   "source": [
    "# parameters for current data \n",
    "betass <- list(\n",
    "              para1=c(2, 1, -1, 3, -2), \n",
    "              para2=c(3, 1, 2, 4, 2), \n",
    "              para3=c(0, -1, -1, 3, 2), \n",
    "              para4=c(2, 0, -1, 4, -2)\n",
    "                  )\n",
    "\n",
    "# parameters for historical data\n",
    "alpss <-  list(para1=c(2, 1, -1, 3, -2), \n",
    "             para2=c(3, 1, 2, 4, 2), \n",
    "             para3=c(0, -1, -1, 3, 2), \n",
    "             para4=c(2, 0, -1, 4, -2) )\n",
    "b <- 2\n",
    "phi0 = phi1 = 2\n",
    "N <- 50 # total sample size\n",
    "# parameters\n",
    "lam <- 0.1\n",
    "hs <- rep(2.1, 4)\n",
    "x.tps <- c(2, 2, \"c\", \"c\")\n",
    "#x.tps <- c(2, 2, 2, 2)\n",
    "\n",
    "tXs <- gen.Data.Xs(1000, x.tps)\n",
    "H <- diag(c(0.1, 0.1, 0.1, 0.1)/2)\n",
    "\n",
    "# initial dataset\n",
    "n0 <- 20"
   ]
  },
  {
   "cell_type": "code",
   "execution_count": null,
   "metadata": {},
   "outputs": [],
   "source": [
    "nSimu <- 1000\n",
    "trt.effs <- mclapply(1:nSimu, fun, mc.cores=6)"
   ]
  },
  {
   "cell_type": "code",
   "execution_count": null,
   "metadata": {},
   "outputs": [],
   "source": [
    "idxs <- sapply(1:nSimu, function(i){is.vector(trt.effs[[i]])})\n",
    "trt.effs <- trt.effs[idxs]"
   ]
  },
  {
   "cell_type": "code",
   "execution_count": null,
   "metadata": {},
   "outputs": [],
   "source": [
    "trt.effs.mat <- do.call(rbind, trt.effs)\n",
    "errs <- abs(trt.effs.mat - b)\n",
    "plot(errs[, 1], errs[, 2], xlim=c(0, 3), ylim=c(0, 3), ylab=\"no Borrow\", xlab=\"Borrow\")\n",
    "abline(a=0, b=1, col=2, lwd=2)"
   ]
  },
  {
   "cell_type": "code",
   "execution_count": null,
   "metadata": {},
   "outputs": [],
   "source": [
    "rbind(CI.fn(errs[, 1]), CI.fn(errs[, 2]))"
   ]
  },
  {
   "cell_type": "code",
   "execution_count": null,
   "metadata": {},
   "outputs": [],
   "source": [
    "mean(errs[, 1] < errs[, 2])"
   ]
  },
  {
   "cell_type": "code",
   "execution_count": null,
   "metadata": {},
   "outputs": [],
   "source": [
    "c(median(errs[, 1]), median(errs[, 2]))"
   ]
  },
  {
   "cell_type": "code",
   "execution_count": null,
   "metadata": {},
   "outputs": [],
   "source": []
  }
 ],
 "metadata": {
  "kernelspec": {
   "display_name": "R",
   "language": "R",
   "name": "ir"
  },
  "language_info": {
   "codemirror_mode": "r",
   "file_extension": ".r",
   "mimetype": "text/x-r-source",
   "name": "R",
   "pygments_lexer": "r",
   "version": "3.6.3"
  }
 },
 "nbformat": 4,
 "nbformat_minor": 2
}
