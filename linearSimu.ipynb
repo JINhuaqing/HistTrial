{
 "cells": [
  {
   "cell_type": "code",
   "execution_count": 8,
   "metadata": {},
   "outputs": [],
   "source": [
    "#rm(list=ls())\n",
    "library(magrittr)\n",
    "library(dplyr)\n",
    "setwd(\"/home/huaqingj/MyResearch/HistTrial\")\n",
    "#setwd(\"C:/Users/JINHU/Documents/ProjectCode/HistTrial\")\n",
    "source(\"utils.R\")\n",
    "library(parallel)"
   ]
  },
  {
   "cell_type": "code",
   "execution_count": 9,
   "metadata": {},
   "outputs": [],
   "source": [
    "CI.fn <- function(errs){\n",
    "  m.v <- mean(errs)\n",
    "  sd.v <- sd(errs)\n",
    "  se <- sd.v/sqrt(length(errs))\n",
    "  low <- m.v - 1.96*se\n",
    "  up <- m.v + 1.96*se\n",
    "  rvs <- c(low, m.v, up)\n",
    "  names(rvs) <- c(\"lower\", \"mean\", \"upper\")\n",
    "  rvs\n",
    "}"
   ]
  },
  {
   "cell_type": "markdown",
   "metadata": {},
   "source": [
    "### Test estimated trt eff"
   ]
  },
  {
   "cell_type": "code",
   "execution_count": 36,
   "metadata": {},
   "outputs": [],
   "source": [
    "fun.est <- function(i){\n",
    "    Xs <- gen.Data.Xs(n0, x.tps)\n",
    "    idx0 <- sample.int(n0, size=floor(n0/2))\n",
    "    Zs <- rep(1, n0)\n",
    "    Zs[idx0] <- 0\n",
    "    \n",
    "    \n",
    "    betMat <- sub.Paras.fn(Xs, betass)\n",
    "    nerrs <- rnorm(n0, sd=phi0)\n",
    "    Ys <- curMean.fn(Xs, Zs, betMat, b) + nerrs\n",
    "    data <- cbind(Ys, Zs, Xs)\n",
    "    data <- as.data.frame(data)\n",
    "    colnames(data)[1:2] <- c(\"Y\", \"Z\")\n",
    "    \n",
    "    \n",
    "    # no borrowing \n",
    "    Zs.no <- Zs\n",
    "    Ys.no <- curMean.fn(Xs, Zs.no, betMat, b) + nerrs\n",
    "    data.no <- cbind(Ys.no, Zs.no, Xs)\n",
    "    data.no <- as.data.frame(data.no)\n",
    "    colnames(data.no)[1:2] <- c(\"Y\", \"Z\")\n",
    "    \n",
    "    for (j in (n0+1):N){\n",
    "        cx <- unlist(gen.Data.Xs(1, x.tps))\n",
    "        \n",
    "        # H <- diag(c(bw.nrd(data$X1), bw.nrd(data$X2), bw.nrd(data$X3), bw.nrd(data$X4)))\n",
    "        alpMat <- sub.Paras.fn(Xs, alpss)\n",
    "        Theta0s <- curMean.fn(Xs, Zs, alpMat, b=0)\n",
    "        res <- info.est.fn(Theta0s, data, H, lam)\n",
    "        res0 <- info.est.fn(Theta0s, data, H, lam, is.borrow=FALSE)\n",
    "        \n",
    "        var.info <- post.var.mu0.fn(cx, res)\n",
    "        var.ref <- post.var.mu0.fn(cx, res0)\n",
    "        R <- var.ref/var.info\n",
    "        ass.res <- RPS.design(cx, data[, 3:6], data$Z, hs, R)\n",
    "        ass.res.no <- RPS.design(cx, data[, 3:6], data.no$Z, hs, R=1)\n",
    "        # ass.res <- RBC.design(cx, data[, 3:6], data$Z, hs, R)\n",
    "        \n",
    "        Xs <- rbind(Xs, cx)\n",
    "        Zs <- c(Zs, ass.res$grp-1)\n",
    "        Zs.no <- c(Zs.no, ass.res.no$grp-1)\n",
    "        \n",
    "        curN <- dim(Xs)[1]\n",
    "        curBetMat <- sub.Paras.fn(Xs[curN, ], betass)\n",
    "        nerr <- rnorm(1, sd=phi0)\n",
    "        Y <- curMean.fn(Xs[curN, ], Zs[curN], curBetMat, b) + nerr\n",
    "        Ys <- c(Ys, Y)\n",
    "        data <- cbind(Ys, Zs, Xs)\n",
    "        data <- as.data.frame(data)\n",
    "        colnames(data)[1:2] <- c(\"Y\", \"Z\")\n",
    "        \n",
    "        Y.no <- curMean.fn(Xs[curN, ], Zs.no[curN], curBetMat, b) + nerr\n",
    "        Ys.no <- c(Ys.no, Y.no)\n",
    "        data.no <- cbind(Ys.no, Zs.no, Xs)\n",
    "        data.no <- as.data.frame(data.no)\n",
    "        colnames(data.no)[1:2] <- c(\"Y\", \"Z\")\n",
    "        \n",
    "        \n",
    "    }\n",
    "    \n",
    "    alpMat <- sub.Paras.fn(Xs, alpss)\n",
    "    Theta0s <- curMean.fn(Xs, Zs, alpMat, b=0)\n",
    "    res <- info.est.fn(Theta0s, data, H, lam)\n",
    "    res.no <- info.est.fn(Theta0s, data.no, H, lam, is.borrow=FALSE)\n",
    "    \n",
    "    res.mu1 <- mu1.est.fn(data$Y, data, H)\n",
    "    res.no.mu1 <- mu1.est.fn(data.no$Y, data.no, H)\n",
    "    trt.eff <- mean(mu1.efn(as.matrix(Xs), res.mu1)) -  mean(mu0.efn(as.matrix(Xs), res));trt.eff\n",
    "    trt.eff.no <- mean(mu1.efn(as.matrix(Xs), res.no.mu1)) -  mean(mu0.efn(as.matrix(Xs), res.no));trt.eff.no\n",
    "    c(trt.eff, trt.eff.no)\n",
    "}"
   ]
  },
  {
   "cell_type": "code",
   "execution_count": 148,
   "metadata": {},
   "outputs": [],
   "source": [
    "# parameters for current data \n",
    "betass <- list(\n",
    "              para1=c(2, 1, -1, 3, -2), \n",
    "              para2=c(3, 1, 2, 4, 2), \n",
    "              para3=c(0, -1, -1, 3, 2), \n",
    "              para4=c(2, 0, -1, 4, -2)\n",
    "                  )\n",
    "\n",
    "# parameters for historical data\n",
    "alpss <-  list(para1=c(2, 1, -1, 3, -2), \n",
    "             para2=c(3, 1, 2, 4, 2), \n",
    "             para3=c(0, -1, -1, 3, 2)-2, \n",
    "             para4=c(2, 0, -1, 4, -2) )\n",
    "b <- 2\n",
    "phi0 = phi1 = 5\n",
    "N <- 50 # total sample size\n",
    "# parameters\n",
    "lam <- 0.1\n",
    "hs <- rep(2.1, 4)\n",
    "x.tps <- c(2, 2, \"c\", \"c\")\n",
    "#x.tps <- c(2, 2, 2, 2)\n",
    "\n",
    "tXs <- gen.Data.Xs(1000, x.tps)\n",
    "H <- diag(c(0.1, 0.1, 0.1, 0.1)/2)\n",
    "\n",
    "# initial dataset\n",
    "n0 <- 20"
   ]
  },
  {
   "cell_type": "code",
   "execution_count": 149,
   "metadata": {},
   "outputs": [],
   "source": [
    "nSimu <- 100\n",
    "trt.effs <- mclapply(1:nSimu, fun.est, mc.cores=6)"
   ]
  },
  {
   "cell_type": "code",
   "execution_count": 150,
   "metadata": {},
   "outputs": [],
   "source": [
    "idxs <- sapply(1:nSimu, function(i){is.vector(trt.effs[[i]])})\n",
    "trt.effs <- trt.effs[idxs]"
   ]
  },
  {
   "cell_type": "code",
   "execution_count": 151,
   "metadata": {},
   "outputs": [
    {
     "data": {
      "image/png": "[encoded data removed]",
      "text/plain": [
       "plot without title"
      ]
     },
     "metadata": {
      "image/png": {
       "height": 420,
       "width": 420
      }
     },
     "output_type": "display_data"
    }
   ],
   "source": [
    "trt.effs.mat <- do.call(rbind, trt.effs)\n",
    "errs <- abs(trt.effs.mat - b)\n",
    "plot(errs[, 1], errs[, 2], xlim=c(0, 3), ylim=c(0, 3), ylab=\"no Borrow\", xlab=\"Borrow\")\n",
    "abline(a=0, b=1, col=2, lwd=2)"
   ]
  },
  {
   "cell_type": "code",
   "execution_count": 152,
   "metadata": {},
   "outputs": [
    {
     "data": {
      "text/html": [
       "<table>\n",
       "<caption>A matrix: 2 × 3 of type dbl</caption>\n",
       "<thead>\n",
       "\t<tr><th scope=col>lower</th><th scope=col>mean</th><th scope=col>upper</th></tr>\n",
       "</thead>\n",
       "<tbody>\n",
       "\t<tr><td>1.030507</td><td>1.230523</td><td>1.430539</td></tr>\n",
       "\t<tr><td>1.141085</td><td>1.334085</td><td>1.527085</td></tr>\n",
       "</tbody>\n",
       "</table>\n"
      ],
      "text/latex": [
       "A matrix: 2 × 3 of type dbl\n",
       "\\begin{tabular}{lll}\n",
       " lower & mean & upper\\\\\n",
       "\\hline\n",
       "\t 1.030507 & 1.230523 & 1.430539\\\\\n",
       "\t 1.141085 & 1.334085 & 1.527085\\\\\n",
       "\\end{tabular}\n"
      ],
      "text/markdown": [
       "\n",
       "A matrix: 2 × 3 of type dbl\n",
       "\n",
       "| lower | mean | upper |\n",
       "|---|---|---|\n",
       "| 1.030507 | 1.230523 | 1.430539 |\n",
       "| 1.141085 | 1.334085 | 1.527085 |\n",
       "\n"
      ],
      "text/plain": [
       "     lower    mean     upper   \n",
       "[1,] 1.030507 1.230523 1.430539\n",
       "[2,] 1.141085 1.334085 1.527085"
      ]
     },
     "metadata": {},
     "output_type": "display_data"
    }
   ],
   "source": [
    "rbind(CI.fn(errs[, 1]), CI.fn(errs[, 2]))"
   ]
  },
  {
   "cell_type": "code",
   "execution_count": 153,
   "metadata": {},
   "outputs": [
    {
     "data": {
      "text/html": [
       "0.5"
      ],
      "text/latex": [
       "0.5"
      ],
      "text/markdown": [
       "0.5"
      ],
      "text/plain": [
       "[1] 0.5"
      ]
     },
     "metadata": {},
     "output_type": "display_data"
    }
   ],
   "source": [
    "mean(errs[, 1] < errs[, 2])"
   ]
  },
  {
   "cell_type": "code",
   "execution_count": 154,
   "metadata": {},
   "outputs": [
    {
     "data": {
      "text/html": [
       "<style>\n",
       ".list-inline {list-style: none; margin:0; padding: 0}\n",
       ".list-inline>li {display: inline-block}\n",
       ".list-inline>li:not(:last-child)::after {content: \"\\00b7\"; padding: 0 .5ex}\n",
       "</style>\n",
       "<ol class=list-inline><li>0.935852839427317</li><li>1.08240585579662</li></ol>\n"
      ],
      "text/latex": [
       "\\begin{enumerate*}\n",
       "\\item 0.935852839427317\n",
       "\\item 1.08240585579662\n",
       "\\end{enumerate*}\n"
      ],
      "text/markdown": [
       "1. 0.935852839427317\n",
       "2. 1.08240585579662\n",
       "\n",
       "\n"
      ],
      "text/plain": [
       "[1] 0.9358528 1.0824059"
      ]
     },
     "metadata": {},
     "output_type": "display_data"
    }
   ],
   "source": [
    "c(median(errs[, 1]), median(errs[, 2]))"
   ]
  },
  {
   "cell_type": "markdown",
   "metadata": {},
   "source": [
    "### Power size "
   ]
  },
  {
   "cell_type": "code",
   "execution_count": 10,
   "metadata": {},
   "outputs": [],
   "source": [
    "fun.test <- function(i){\n",
    "    Xs <- gen.Data.Xs(n0, x.tps)\n",
    "    idx0 <- sample.int(n0, size=floor(n0/2))\n",
    "    Zs <- rep(1, n0)\n",
    "    Zs[idx0] <- 0\n",
    "    \n",
    "    \n",
    "    betMat <- sub.Paras.fn(Xs, betass)\n",
    "    nerrs <- rnorm(n0, sd=phi0)\n",
    "    Ys <- curMean.fn(Xs, Zs, betMat, b) + nerrs\n",
    "    data <- cbind(Ys, Zs, Xs)\n",
    "    data <- as.data.frame(data)\n",
    "    colnames(data)[1:2] <- c(\"Y\", \"Z\")\n",
    "    \n",
    "    \n",
    "    # no borrowing \n",
    "    Zs.no <- Zs\n",
    "    Ys.no <- curMean.fn(Xs, Zs.no, betMat, b) + nerrs\n",
    "    data.no <- cbind(Ys.no, Zs.no, Xs)\n",
    "    data.no <- as.data.frame(data.no)\n",
    "    colnames(data.no)[1:2] <- c(\"Y\", \"Z\")\n",
    "    \n",
    "    for (j in (n0+1):N){\n",
    "        cx <- unlist(gen.Data.Xs(1, x.tps))\n",
    "        \n",
    "        # H <- diag(c(bw.nrd(data$X1), bw.nrd(data$X2), bw.nrd(data$X3), bw.nrd(data$X4)))\n",
    "        alpMat <- sub.Paras.fn(Xs, alpss)\n",
    "        Theta0s <- curMean.fn(Xs, Zs, alpMat, b=0)\n",
    "        res <- info.est.fn(Theta0s, data, H, lam)\n",
    "        res0 <- info.est.fn(Theta0s, data, H, lam, is.borrow=FALSE)\n",
    "        \n",
    "        var.info <- post.var.mu0.fn(cx, res)\n",
    "        var.ref <- post.var.mu0.fn(cx, res0)\n",
    "        R <- var.ref/var.info\n",
    "        ass.res <- RPS.design(cx, data[, 3:6], data$Z, hs, R)\n",
    "        ass.res.no <- RPS.design(cx, data[, 3:6], data.no$Z, hs, R=1)\n",
    "        # ass.res <- RBC.design(cx, data[, 3:6], data$Z, hs, R)\n",
    "        \n",
    "        Xs <- rbind(Xs, cx)\n",
    "        Zs <- c(Zs, ass.res$grp-1)\n",
    "        Zs.no <- c(Zs.no, ass.res.no$grp-1)\n",
    "        \n",
    "        curN <- dim(Xs)[1]\n",
    "        curBetMat <- sub.Paras.fn(Xs[curN, ], betass)\n",
    "        nerr <- rnorm(1, sd=phi0)\n",
    "        Y <- curMean.fn(Xs[curN, ], Zs[curN], curBetMat, b) + nerr\n",
    "        Ys <- c(Ys, Y)\n",
    "        data <- cbind(Ys, Zs, Xs)\n",
    "        data <- as.data.frame(data)\n",
    "        colnames(data)[1:2] <- c(\"Y\", \"Z\")\n",
    "        \n",
    "        Y.no <- curMean.fn(Xs[curN, ], Zs.no[curN], curBetMat, b) + nerr\n",
    "        Ys.no <- c(Ys.no, Y.no)\n",
    "        data.no <- cbind(Ys.no, Zs.no, Xs)\n",
    "        data.no <- as.data.frame(data.no)\n",
    "        colnames(data.no)[1:2] <- c(\"Y\", \"Z\")\n",
    "        \n",
    "        \n",
    "    }\n",
    "    \n",
    "    alpMat <- sub.Paras.fn(Xs, alpss)\n",
    "    Theta0s <- curMean.fn(Xs, Zs, alpMat, b=0)\n",
    "    res <- info.est.fn(Theta0s, data, H, lam)\n",
    "    res.no <- info.est.fn(Theta0s, data.no, H, lam, is.borrow=FALSE)\n",
    "    \n",
    "    res.mu1 <- mu1.est.fn(data$Y, data, H)\n",
    "    res.no.mu1 <- mu1.est.fn(data.no$Y, data.no, H)\n",
    "    trt.eff <- mean(mu1.efn(as.matrix(Xs), res.mu1)) -  mean(mu0.efn(as.matrix(Xs), res))\n",
    "    trt.eff.no <- mean(mu1.efn(as.matrix(Xs), res.no.mu1)) -  mean(mu0.efn(as.matrix(Xs), res.no))\n",
    "    post.prob.trt <- function(i){\n",
    "        sps0 <- r.postMu0(as.matrix(Xs), res)\n",
    "        sps0.no <- r.postMu0(as.matrix(Xs), res.no)\n",
    "        sps1 <- r.postMu1(as.matrix(Xs), res.mu1)\n",
    "        sps1.no <- r.postMu1(as.matrix(Xs), res.no.mu1)\n",
    "        \n",
    "        sps.trt <- mean(sps1) - mean(sps0)\n",
    "        sps.trt.no <- mean(sps1.no) - mean(sps0.no)\n",
    "        c(sps.trt, sps.trt.no)\n",
    "    }\n",
    "    sps.trts <- lapply(1:M, post.prob.trt)\n",
    "    \n",
    "    rv <- list(mtrt=c(trt.eff, trt.eff.no), sps.trts=sps.trts)\n",
    "    rv\n",
    "}"
   ]
  },
  {
   "cell_type": "code",
   "execution_count": 241,
   "metadata": {},
   "outputs": [],
   "source": [
    "# parameters for current data \n",
    "betass <- list(\n",
    "              para1=c(2, 1, -1, 3, -2), \n",
    "              para2=c(3, 1, 2, 4, 2), \n",
    "              para3=c(0, -1, -1, 3, 2), \n",
    "              para4=c(2, 0, -1, 4, -2)\n",
    "                  )\n",
    "\n",
    "# parameters for historical data\n",
    "alpss <-  list(para1=c(2, 1, -1, 3, -2), \n",
    "             para2=c(3, 1, 2, 4, 2), \n",
    "             para3=c(0, -1, -1, 3, 2), \n",
    "             para4=c(2, 0, -1, 4, -2) )\n",
    "b <- 1\n",
    "phi0 = phi1 = 2\n",
    "N <- 100 # total sample size\n",
    "# parameters\n",
    "lam <- 0.1\n",
    "hs <- rep(2.1, 4)\n",
    "x.tps <- c(2, 2, \"c\", \"c\")\n",
    "#x.tps <- c(2, 2, 2, 2)\n",
    "\n",
    "tXs <- gen.Data.Xs(1000, x.tps)\n",
    "H <- diag(c(0.1, 0.1, 0.1, 0.1)/2)\n",
    "\n",
    "# initial dataset\n",
    "n0 <- 20\n",
    "\n",
    "# for hypothesis test\n",
    "# to calculate the prob\n",
    "M <- 1000"
   ]
  },
  {
   "cell_type": "code",
   "execution_count": 242,
   "metadata": {},
   "outputs": [],
   "source": [
    "nSimu <- 1000\n",
    "post.res <- mclapply(1:nSimu, fun.test, mc.cores=6)"
   ]
  },
  {
   "cell_type": "code",
   "execution_count": 249,
   "metadata": {},
   "outputs": [],
   "source": [
    "# for hypothesis test\n",
    "dlt0 <- 0.5\n",
    "# eps0 and eps0.no are tuned such that the size is 0.5 \n",
    "eps0 <- 0.519\n",
    "eps0.no <- 0.526\n",
    "# (n0, N, phi0) = (20, 50, 5): ep0s = (0.531, 0.527)\n",
    "# (n0, N, phi0) = (20, 50, 10): ep0s = (0.529, 0.534)\n",
    "# (n0, N, phi0) = (20, 100, 10): ep0s = (0.579, 0.571)\n",
    "# (n0, N, phi0) = (20, 100, 2): ep0s = (0.519, 0.526)"
   ]
  },
  {
   "cell_type": "code",
   "execution_count": 250,
   "metadata": {},
   "outputs": [],
   "source": [
    "post.fn <- function(trts){\n",
    "    prob <- mean(trts > dlt0)\n",
    "    prob\n",
    "}\n",
    "\n",
    "post.b.fn <- function(res){\n",
    "    sps.trts <- res$sps.trts\n",
    "    trtsMat <- do.call(rbind, sps.trts)\n",
    "    prb <- post.fn(trtsMat[, 1])\n",
    "    prb.no <- post.fn(trtsMat[, 2])\n",
    "    c(prb, prb.no)\n",
    "}"
   ]
  },
  {
   "cell_type": "code",
   "execution_count": 251,
   "metadata": {},
   "outputs": [
    {
     "data": {
      "text/html": [
       "<style>\n",
       ".dl-inline {width: auto; margin:0; padding: 0}\n",
       ".dl-inline>dt, .dl-inline>dd {float: none; width: auto; display: inline-block}\n",
       ".dl-inline>dt::after {content: \":\\0020\"; padding-right: .5ex}\n",
       ".dl-inline>dt:not(:first-of-type) {padding-left: .5ex}\n",
       "</style><dl class=dl-inline><dt>Borrow</dt><dd>0.863</dd><dt>No Borrow</dt><dd>0.811</dd></dl>\n"
      ],
      "text/latex": [
       "\\begin{description*}\n",
       "\\item[Borrow] 0.863\n",
       "\\item[No Borrow] 0.811\n",
       "\\end{description*}\n"
      ],
      "text/markdown": [
       "Borrow\n",
       ":   0.863No Borrow\n",
       ":   0.811\n",
       "\n"
      ],
      "text/plain": [
       "   Borrow No Borrow \n",
       "    0.863     0.811 "
      ]
     },
     "metadata": {},
     "output_type": "display_data"
    }
   ],
   "source": [
    "probMat <- sapply(post.res, post.b.fn)\n",
    "power <- mean(probMat[1, ] > eps0)\n",
    "power.no <- mean(probMat[2,] > eps0.no)\n",
    "powers <- c(power, power.no)\n",
    "names(powers) <- c(\"Borrow\", \"No Borrow\")\n",
    "powers"
   ]
  },
  {
   "cell_type": "code",
   "execution_count": null,
   "metadata": {},
   "outputs": [],
   "source": []
  }
 ],
 "metadata": {
  "kernelspec": {
   "display_name": "R",
   "language": "R",
   "name": "ir"
  },
  "language_info": {
   "codemirror_mode": "r",
   "file_extension": ".r",
   "mimetype": "text/x-r-source",
   "name": "R",
   "pygments_lexer": "r",
   "version": "3.6.3"
  }
 },
 "nbformat": 4,
 "nbformat_minor": 2
}
