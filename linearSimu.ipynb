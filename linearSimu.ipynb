{
 "cells": [
  {
   "cell_type": "code",
   "execution_count": 5,
   "metadata": {},
   "outputs": [],
   "source": [
    "#rm(list=ls())\n",
    "library(magrittr)\n",
    "library(dplyr)\n",
    "#setwd(\"/home/huaqingj/MyResearch/HistTrial\")\n",
    "setwd(\"/home/r6user2/Documents/TQ/HistTrial\")\n",
    "#setwd(\"C:/Users/JINHU/Documents/ProjectCode/HistTrial\")\n",
    "source(\"utils.R\")\n",
    "library(parallel)"
   ]
  },
  {
   "cell_type": "code",
   "execution_count": 6,
   "metadata": {},
   "outputs": [],
   "source": [
    "CI.fn <- function(errs){\n",
    "  m.v <- mean(errs)\n",
    "  sd.v <- sd(errs)\n",
    "  se <- sd.v/sqrt(length(errs))\n",
    "  low <- m.v - 1.96*se\n",
    "  up <- m.v + 1.96*se\n",
    "  rvs <- c(low, m.v, up)\n",
    "  names(rvs) <- c(\"lower\", \"mean\", \"upper\")\n",
    "  rvs\n",
    "}"
   ]
  },
  {
   "cell_type": "markdown",
   "metadata": {},
   "source": [
    "### Test estimated trt eff"
   ]
  },
  {
   "cell_type": "markdown",
   "metadata": {},
   "source": [
    "### Power size "
   ]
  },
  {
   "cell_type": "code",
   "execution_count": 137,
   "metadata": {},
   "outputs": [],
   "source": [
    "fun.test <- function(i){\n",
    "    Xs <- gen.Data.Xs(n0, x.tps)\n",
    "    idx0 <- sample.int(n0, size=floor(n0/2))\n",
    "    Zs <- rep(1, n0)\n",
    "    Zs[idx0] <- 0\n",
    "    \n",
    "    \n",
    "    betMat <- sub.Paras.fn(Xs, betass)\n",
    "    nerrs <- rnorm(n0, sd=phi0)\n",
    "    Ys <- curMean.fn(Xs, Zs, betMat, b) + nerrs\n",
    "    data <- cbind(Ys, Zs, Xs)\n",
    "    data <- as.data.frame(data)\n",
    "    colnames(data)[1:2] <- c(\"Y\", \"Z\")\n",
    "    \n",
    "    \n",
    "    # no borrowing \n",
    "    Zs.no <- Zs\n",
    "    Ys.no <- curMean.fn(Xs, Zs.no, betMat, b) + nerrs\n",
    "    data.no <- cbind(Ys.no, Zs.no, Xs)\n",
    "    data.no <- as.data.frame(data.no)\n",
    "    colnames(data.no)[1:2] <- c(\"Y\", \"Z\")\n",
    "    \n",
    "    for (j in (n0+1):N){\n",
    "        cx <- unlist(gen.Data.Xs(1, x.tps))\n",
    "        \n",
    "        # H <- diag(c(bw.nrd(data$X1), bw.nrd(data$X2), bw.nrd(data$X3), bw.nrd(data$X4)))\n",
    "        alpMat <- sub.Paras.fn(Xs, alpss)\n",
    "        Theta0s <- curMean.fn(Xs, Zs, alpMat, b=0)\n",
    "        res <- info.est.fn(Theta0s, data, H, lam)\n",
    "        res0 <- info.est.fn(Theta0s, data, H, lam, is.borrow=FALSE)\n",
    "        \n",
    "        var.info <- post.var.mu0.fn(cx, res)\n",
    "        var.ref <- post.var.mu0.fn(cx, res0)\n",
    "        R <- var.ref/var.info\n",
    "        ass.res <- RPS.design(cx, data[, 3:6], data$Z, hs, R)\n",
    "        ass.res.no <- RPS.design(cx, data[, 3:6], data.no$Z, hs, R=1)\n",
    "        # ass.res <- RBC.design(cx, data[, 3:6], data$Z, hs, R)\n",
    "        \n",
    "        Xs <- rbind(Xs, cx)\n",
    "        Zs <- c(Zs, ass.res$grp-1)\n",
    "        Zs.no <- c(Zs.no, ass.res.no$grp-1)\n",
    "        \n",
    "        curN <- dim(Xs)[1]\n",
    "        curBetMat <- sub.Paras.fn(Xs[curN, ], betass)\n",
    "        nerr <- rnorm(1, sd=phi0)\n",
    "        Y <- curMean.fn(Xs[curN, ], Zs[curN], curBetMat, b) + nerr\n",
    "        Ys <- c(Ys, Y)\n",
    "        data <- cbind(Ys, Zs, Xs)\n",
    "        data <- as.data.frame(data)\n",
    "        colnames(data)[1:2] <- c(\"Y\", \"Z\")\n",
    "        \n",
    "        Y.no <- curMean.fn(Xs[curN, ], Zs.no[curN], curBetMat, b) + nerr\n",
    "        Ys.no <- c(Ys.no, Y.no)\n",
    "        data.no <- cbind(Ys.no, Zs.no, Xs)\n",
    "        data.no <- as.data.frame(data.no)\n",
    "        colnames(data.no)[1:2] <- c(\"Y\", \"Z\")\n",
    "        \n",
    "        \n",
    "    }\n",
    "    \n",
    "    alpMat <- sub.Paras.fn(Xs, alpss)\n",
    "    Theta0s <- curMean.fn(Xs, Zs, alpMat, b=0)\n",
    "    res <- info.est.fn(Theta0s, data, H, lam)\n",
    "    res.no <- info.est.fn(Theta0s, data.no, H, lam, is.borrow=FALSE)\n",
    "    \n",
    "    res.mu1 <- mu1.est.fn(data$Y, data, H)\n",
    "    res.no.mu1 <- mu1.est.fn(data.no$Y, data.no, H)\n",
    "    trt.eff <- mean(mu1.efn(as.matrix(Xs), res.mu1)) -  mean(mu0.efn(as.matrix(Xs), res))\n",
    "    trt.eff.no <- mean(mu1.efn(as.matrix(Xs), res.no.mu1)) -  mean(mu0.efn(as.matrix(Xs), res.no))\n",
    "    post.prob.trt <- function(i){\n",
    "        sps0 <- r.postMu0(as.matrix(Xs), res)\n",
    "        sps0.no <- r.postMu0(as.matrix(Xs), res.no)\n",
    "        sps1 <- r.postMu1(as.matrix(Xs), res.mu1)\n",
    "        sps1.no <- r.postMu1(as.matrix(Xs), res.no.mu1)\n",
    "        \n",
    "        sps.trt <- mean(sps1) - mean(sps0)\n",
    "        sps.trt.no <- mean(sps1.no) - mean(sps0.no)\n",
    "        c(sps.trt, sps.trt.no)\n",
    "    }\n",
    "    sps.trts <- lapply(1:M, post.prob.trt)\n",
    "    \n",
    "    rv <- list(mtrt=c(trt.eff, trt.eff.no), sps.trts=sps.trts, data=data,data.no=data.no)\n",
    "    rv\n",
    "}"
   ]
  },
  {
   "cell_type": "code",
   "execution_count": 157,
   "metadata": {},
   "outputs": [],
   "source": [
    "# parameters for current data \n",
    "betass <- list(\n",
    "              para1=c(2, 1, -1, 3, -2), \n",
    "              para2=c(3, 1, 2, 4, 2), \n",
    "              para3=c(0, -1, -1, 3, 2), \n",
    "              para4=c(2, 0, -1, 4, -2)\n",
    "                  )\n",
    "\n",
    "# parameters for historical data\n",
    "alpss <-  list(para1=c(2, 1, -1, 3, -2), \n",
    "             para2=c(3, 1, 2, 4, 2), \n",
    "             para3=c(0, -1, -1, 3, 2), \n",
    "             para4=c(2, 0, -1, 4, -2) )\n",
    "b <- 0.5\n",
    "phi0 = phi1 = 2\n",
    "N <- 100 # total sample size\n",
    "# parameters\n",
    "lam <- 0.1\n",
    "hs <- rep(2.1, 4)\n",
    "x.tps <- c(2, 2, \"c\", \"c\")\n",
    "#x.tps <- c(2, 2, 2, 2)\n",
    "\n",
    "tXs <- gen.Data.Xs(1000, x.tps)\n",
    "H <- diag(c(0.1, 0.1, 0.1, 0.1)/2)\n",
    "\n",
    "# initial dataset\n",
    "n0 <- 20\n",
    "\n",
    "# for hypothesis test\n",
    "# to calculate the prob\n",
    "M <- 1000"
   ]
  },
  {
   "cell_type": "code",
   "execution_count": 158,
   "metadata": {},
   "outputs": [],
   "source": [
    "nSimu <- 1000\n",
    "post.res <- mclapply(1:nSimu, fun.test, mc.cores=60)\n",
    "sv.name <- paste0(\"Res_test_b_\", b, \".RData\")\n",
    "save(post.res, file=sv.name)"
   ]
  },
  {
   "cell_type": "code",
   "execution_count": 279,
   "metadata": {},
   "outputs": [],
   "source": [
    "# for hypothesis test\n",
    "dlt0 <- 1\n",
    "# eps0 and eps0.no are tuned such that the size is 0.05 \n",
    "eps0 <- 0.502\n",
    "eps0.no <- 0.503\n",
    "#eps0 <- 0.552\n",
    "#eps0.no <- 0.543\n",
    "# (n0, N, phi0) = (20, 50, 5): ep0s = (0.531, 0.527)\n",
    "# (n0, N, phi0) = (20, 50, 10): ep0s = (0.529, 0.534)\n",
    "# (n0, N, phi0) = (20, 100, 10): ep0s = (0.579, 0.571)\n",
    "# (n0, N, phi0) = (20, 100, 2): ep0s = (0.519, 0.526)"
   ]
  },
  {
   "cell_type": "code",
   "execution_count": 280,
   "metadata": {},
   "outputs": [],
   "source": [
    "post.fn <- function(trts){\n",
    "    prob <- mean(trts > dlt0)\n",
    "    prob\n",
    "}\n",
    "\n",
    "post.b.fn <- function(res){\n",
    "    sps.trts <- res$sps.trts\n",
    "    trtsMat <- do.call(rbind, sps.trts)\n",
    "    prb <- post.fn(trtsMat[, 1])\n",
    "    prb.no <- post.fn(trtsMat[, 2])\n",
    "    c(prb, prb.no)\n",
    "}"
   ]
  },
  {
   "cell_type": "code",
   "execution_count": 281,
   "metadata": {},
   "outputs": [
    {
     "data": {
      "text/html": [
       "<dl class=dl-horizontal>\n",
       "\t<dt>Borrow</dt>\n",
       "\t\t<dd>0.049</dd>\n",
       "\t<dt>No Borrow</dt>\n",
       "\t\t<dd>0.051</dd>\n",
       "</dl>\n"
      ],
      "text/latex": [
       "\\begin{description*}\n",
       "\\item[Borrow] 0.049\n",
       "\\item[No Borrow] 0.051\n",
       "\\end{description*}\n"
      ],
      "text/markdown": [
       "Borrow\n",
       ":   0.049No Borrow\n",
       ":   0.051\n",
       "\n"
      ],
      "text/plain": [
       "   Borrow No Borrow \n",
       "    0.049     0.051 "
      ]
     },
     "metadata": {},
     "output_type": "display_data"
    }
   ],
   "source": [
    "b = 0\n",
    "c.res <- paste0(\"Res_test_b_\", b, \".RData\")\n",
    "load(c.res)\n",
    "probMat <- sapply(post.res, post.b.fn)\n",
    "power <- mean(probMat[1, ] > eps0)\n",
    "power.no <- mean(probMat[2,] > eps0.no)\n",
    "powers <- c(power, power.no)\n",
    "names(powers) <- c(\"Borrow\", \"No Borrow\")\n",
    "powers"
   ]
  },
  {
   "cell_type": "code",
   "execution_count": 282,
   "metadata": {},
   "outputs": [
    {
     "data": {
      "text/html": [
       "<table>\n",
       "<thead><tr><th scope=col>lower</th><th scope=col>mean</th><th scope=col>upper</th></tr></thead>\n",
       "<tbody>\n",
       "\t<tr><td>0.2865845</td><td>0.3009527</td><td>0.3153210</td></tr>\n",
       "\t<tr><td>0.3420658</td><td>0.3591463</td><td>0.3762269</td></tr>\n",
       "</tbody>\n",
       "</table>\n"
      ],
      "text/latex": [
       "\\begin{tabular}{lll}\n",
       " lower & mean & upper\\\\\n",
       "\\hline\n",
       "\t 0.2865845 & 0.3009527 & 0.3153210\\\\\n",
       "\t 0.3420658 & 0.3591463 & 0.3762269\\\\\n",
       "\\end{tabular}\n"
      ],
      "text/markdown": [
       "\n",
       "| lower | mean | upper |\n",
       "|---|---|---|\n",
       "| 0.2865845 | 0.3009527 | 0.3153210 |\n",
       "| 0.3420658 | 0.3591463 | 0.3762269 |\n",
       "\n"
      ],
      "text/plain": [
       "     lower     mean      upper    \n",
       "[1,] 0.2865845 0.3009527 0.3153210\n",
       "[2,] 0.3420658 0.3591463 0.3762269"
      ]
     },
     "metadata": {},
     "output_type": "display_data"
    },
    {
     "data": {
      "text/html": [
       "0.555"
      ],
      "text/latex": [
       "0.555"
      ],
      "text/markdown": [
       "0.555"
      ],
      "text/plain": [
       "[1] 0.555"
      ]
     },
     "metadata": {},
     "output_type": "display_data"
    }
   ],
   "source": [
    "trt.effs <- lapply(post.res, function(i)i$mtrt)\n",
    "trt.effs.mat <- do.call(rbind, trt.effs)\n",
    "errs <- abs(trt.effs.mat - b)\n",
    "rbind(CI.fn(errs[, 1]), CI.fn(errs[, 2]))\n",
    "mean(errs[, 1] < errs[, 2])"
   ]
  },
  {
   "cell_type": "code",
   "execution_count": 283,
   "metadata": {},
   "outputs": [
    {
     "data": {
      "text/html": [
       "<dl class=dl-horizontal>\n",
       "\t<dt>Borrow</dt>\n",
       "\t\t<dd>0.156</dd>\n",
       "\t<dt>No Borrow</dt>\n",
       "\t\t<dd>0.18</dd>\n",
       "</dl>\n"
      ],
      "text/latex": [
       "\\begin{description*}\n",
       "\\item[Borrow] 0.156\n",
       "\\item[No Borrow] 0.18\n",
       "\\end{description*}\n"
      ],
      "text/markdown": [
       "Borrow\n",
       ":   0.156No Borrow\n",
       ":   0.18\n",
       "\n"
      ],
      "text/plain": [
       "   Borrow No Borrow \n",
       "    0.156     0.180 "
      ]
     },
     "metadata": {},
     "output_type": "display_data"
    }
   ],
   "source": [
    "b = 0.5\n",
    "c.res <- paste0(\"Res_test_b_\", b, \".RData\")\n",
    "load(c.res)\n",
    "probMat <- sapply(post.res, post.b.fn)\n",
    "power <- mean(probMat[1, ] > eps0)\n",
    "power.no <- mean(probMat[2,] > eps0.no)\n",
    "powers <- c(power, power.no)\n",
    "names(powers) <- c(\"Borrow\", \"No Borrow\")\n",
    "powers"
   ]
  },
  {
   "cell_type": "code",
   "execution_count": 284,
   "metadata": {},
   "outputs": [
    {
     "data": {
      "text/html": [
       "<table>\n",
       "<thead><tr><th scope=col>lower</th><th scope=col>mean</th><th scope=col>upper</th></tr></thead>\n",
       "<tbody>\n",
       "\t<tr><td>0.2842908</td><td>0.2980044</td><td>0.3117179</td></tr>\n",
       "\t<tr><td>0.3570851</td><td>0.3740492</td><td>0.3910134</td></tr>\n",
       "</tbody>\n",
       "</table>\n"
      ],
      "text/latex": [
       "\\begin{tabular}{lll}\n",
       " lower & mean & upper\\\\\n",
       "\\hline\n",
       "\t 0.2842908 & 0.2980044 & 0.3117179\\\\\n",
       "\t 0.3570851 & 0.3740492 & 0.3910134\\\\\n",
       "\\end{tabular}\n"
      ],
      "text/markdown": [
       "\n",
       "| lower | mean | upper |\n",
       "|---|---|---|\n",
       "| 0.2842908 | 0.2980044 | 0.3117179 |\n",
       "| 0.3570851 | 0.3740492 | 0.3910134 |\n",
       "\n"
      ],
      "text/plain": [
       "     lower     mean      upper    \n",
       "[1,] 0.2842908 0.2980044 0.3117179\n",
       "[2,] 0.3570851 0.3740492 0.3910134"
      ]
     },
     "metadata": {},
     "output_type": "display_data"
    },
    {
     "data": {
      "text/html": [
       "0.571"
      ],
      "text/latex": [
       "0.571"
      ],
      "text/markdown": [
       "0.571"
      ],
      "text/plain": [
       "[1] 0.571"
      ]
     },
     "metadata": {},
     "output_type": "display_data"
    }
   ],
   "source": [
    "trt.effs <- lapply(post.res, function(i)i$mtrt)\n",
    "trt.effs.mat <- do.call(rbind, trt.effs)\n",
    "errs <- abs(trt.effs.mat - b)\n",
    "rbind(CI.fn(errs[, 1]), CI.fn(errs[, 2]))\n",
    "mean(errs[, 1] < errs[, 2])"
   ]
  },
  {
   "cell_type": "code",
   "execution_count": 285,
   "metadata": {},
   "outputs": [
    {
     "data": {
      "text/html": [
       "<dl class=dl-horizontal>\n",
       "\t<dt>Borrow</dt>\n",
       "\t\t<dd>0.51</dd>\n",
       "\t<dt>No Borrow</dt>\n",
       "\t\t<dd>0.477</dd>\n",
       "</dl>\n"
      ],
      "text/latex": [
       "\\begin{description*}\n",
       "\\item[Borrow] 0.51\n",
       "\\item[No Borrow] 0.477\n",
       "\\end{description*}\n"
      ],
      "text/markdown": [
       "Borrow\n",
       ":   0.51No Borrow\n",
       ":   0.477\n",
       "\n"
      ],
      "text/plain": [
       "   Borrow No Borrow \n",
       "    0.510     0.477 "
      ]
     },
     "metadata": {},
     "output_type": "display_data"
    }
   ],
   "source": [
    "b = 1\n",
    "c.res <- paste0(\"Res_test_b_\", b, \".RData\")\n",
    "load(c.res)\n",
    "probMat <- sapply(post.res, post.b.fn)\n",
    "power <- mean(probMat[1, ] > eps0)\n",
    "power.no <- mean(probMat[2,] > eps0.no)\n",
    "powers <- c(power, power.no)\n",
    "names(powers) <- c(\"Borrow\", \"No Borrow\")\n",
    "powers"
   ]
  },
  {
   "cell_type": "code",
   "execution_count": 286,
   "metadata": {},
   "outputs": [
    {
     "data": {
      "text/html": [
       "<table>\n",
       "<thead><tr><th scope=col>lower</th><th scope=col>mean</th><th scope=col>upper</th></tr></thead>\n",
       "<tbody>\n",
       "\t<tr><td>0.2830378</td><td>0.2973376</td><td>0.3116375</td></tr>\n",
       "\t<tr><td>0.3411594</td><td>0.3573659</td><td>0.3735724</td></tr>\n",
       "</tbody>\n",
       "</table>\n"
      ],
      "text/latex": [
       "\\begin{tabular}{lll}\n",
       " lower & mean & upper\\\\\n",
       "\\hline\n",
       "\t 0.2830378 & 0.2973376 & 0.3116375\\\\\n",
       "\t 0.3411594 & 0.3573659 & 0.3735724\\\\\n",
       "\\end{tabular}\n"
      ],
      "text/markdown": [
       "\n",
       "| lower | mean | upper |\n",
       "|---|---|---|\n",
       "| 0.2830378 | 0.2973376 | 0.3116375 |\n",
       "| 0.3411594 | 0.3573659 | 0.3735724 |\n",
       "\n"
      ],
      "text/plain": [
       "     lower     mean      upper    \n",
       "[1,] 0.2830378 0.2973376 0.3116375\n",
       "[2,] 0.3411594 0.3573659 0.3735724"
      ]
     },
     "metadata": {},
     "output_type": "display_data"
    },
    {
     "data": {
      "text/html": [
       "0.565"
      ],
      "text/latex": [
       "0.565"
      ],
      "text/markdown": [
       "0.565"
      ],
      "text/plain": [
       "[1] 0.565"
      ]
     },
     "metadata": {},
     "output_type": "display_data"
    }
   ],
   "source": [
    "trt.effs <- lapply(post.res, function(i)i$mtrt)\n",
    "trt.effs.mat <- do.call(rbind, trt.effs)\n",
    "errs <- abs(trt.effs.mat - b)\n",
    "rbind(CI.fn(errs[, 1]), CI.fn(errs[, 2]))\n",
    "mean(errs[, 1] < errs[, 2])"
   ]
  },
  {
   "cell_type": "code",
   "execution_count": 287,
   "metadata": {},
   "outputs": [
    {
     "data": {
      "text/html": [
       "<dl class=dl-horizontal>\n",
       "\t<dt>Borrow</dt>\n",
       "\t\t<dd>0.796</dd>\n",
       "\t<dt>No Borrow</dt>\n",
       "\t\t<dd>0.753</dd>\n",
       "</dl>\n"
      ],
      "text/latex": [
       "\\begin{description*}\n",
       "\\item[Borrow] 0.796\n",
       "\\item[No Borrow] 0.753\n",
       "\\end{description*}\n"
      ],
      "text/markdown": [
       "Borrow\n",
       ":   0.796No Borrow\n",
       ":   0.753\n",
       "\n"
      ],
      "text/plain": [
       "   Borrow No Borrow \n",
       "    0.796     0.753 "
      ]
     },
     "metadata": {},
     "output_type": "display_data"
    }
   ],
   "source": [
    "b = 1.5\n",
    "c.res <- paste0(\"Res_test_b_\", b, \".RData\")\n",
    "load(c.res)\n",
    "probMat <- sapply(post.res, post.b.fn)\n",
    "power <- mean(probMat[1, ] > eps0)\n",
    "power.no <- mean(probMat[2,] > eps0.no)\n",
    "powers <- c(power, power.no)\n",
    "names(powers) <- c(\"Borrow\", \"No Borrow\")\n",
    "powers"
   ]
  },
  {
   "cell_type": "code",
   "execution_count": 288,
   "metadata": {},
   "outputs": [
    {
     "data": {
      "text/html": [
       "<table>\n",
       "<thead><tr><th scope=col>lower</th><th scope=col>mean</th><th scope=col>upper</th></tr></thead>\n",
       "<tbody>\n",
       "\t<tr><td>0.2953070</td><td>0.3104168</td><td>0.3255266</td></tr>\n",
       "\t<tr><td>0.3536806</td><td>0.3706191</td><td>0.3875577</td></tr>\n",
       "</tbody>\n",
       "</table>\n"
      ],
      "text/latex": [
       "\\begin{tabular}{lll}\n",
       " lower & mean & upper\\\\\n",
       "\\hline\n",
       "\t 0.2953070 & 0.3104168 & 0.3255266\\\\\n",
       "\t 0.3536806 & 0.3706191 & 0.3875577\\\\\n",
       "\\end{tabular}\n"
      ],
      "text/markdown": [
       "\n",
       "| lower | mean | upper |\n",
       "|---|---|---|\n",
       "| 0.2953070 | 0.3104168 | 0.3255266 |\n",
       "| 0.3536806 | 0.3706191 | 0.3875577 |\n",
       "\n"
      ],
      "text/plain": [
       "     lower     mean      upper    \n",
       "[1,] 0.2953070 0.3104168 0.3255266\n",
       "[2,] 0.3536806 0.3706191 0.3875577"
      ]
     },
     "metadata": {},
     "output_type": "display_data"
    },
    {
     "data": {
      "text/html": [
       "0.573"
      ],
      "text/latex": [
       "0.573"
      ],
      "text/markdown": [
       "0.573"
      ],
      "text/plain": [
       "[1] 0.573"
      ]
     },
     "metadata": {},
     "output_type": "display_data"
    }
   ],
   "source": [
    "trt.effs <- lapply(post.res, function(i)i$mtrt)\n",
    "trt.effs.mat <- do.call(rbind, trt.effs)\n",
    "errs <- abs(trt.effs.mat - b)\n",
    "rbind(CI.fn(errs[, 1]), CI.fn(errs[, 2]))\n",
    "mean(errs[, 1] < errs[, 2])"
   ]
  },
  {
   "cell_type": "code",
   "execution_count": 289,
   "metadata": {},
   "outputs": [
    {
     "data": {
      "text/html": [
       "<dl class=dl-horizontal>\n",
       "\t<dt>Borrow</dt>\n",
       "\t\t<dd>0.937</dd>\n",
       "\t<dt>No Borrow</dt>\n",
       "\t\t<dd>0.891</dd>\n",
       "</dl>\n"
      ],
      "text/latex": [
       "\\begin{description*}\n",
       "\\item[Borrow] 0.937\n",
       "\\item[No Borrow] 0.891\n",
       "\\end{description*}\n"
      ],
      "text/markdown": [
       "Borrow\n",
       ":   0.937No Borrow\n",
       ":   0.891\n",
       "\n"
      ],
      "text/plain": [
       "   Borrow No Borrow \n",
       "    0.937     0.891 "
      ]
     },
     "metadata": {},
     "output_type": "display_data"
    }
   ],
   "source": [
    "b = 2\n",
    "c.res <- paste0(\"Res_test_b_\", b, \".RData\")\n",
    "load(c.res)\n",
    "probMat <- sapply(post.res, post.b.fn)\n",
    "power <- mean(probMat[1, ] > eps0)\n",
    "power.no <- mean(probMat[2,] > eps0.no)\n",
    "powers <- c(power, power.no)\n",
    "names(powers) <- c(\"Borrow\", \"No Borrow\")\n",
    "powers"
   ]
  },
  {
   "cell_type": "code",
   "execution_count": 290,
   "metadata": {},
   "outputs": [
    {
     "data": {
      "text/html": [
       "<table>\n",
       "<thead><tr><th scope=col>lower</th><th scope=col>mean</th><th scope=col>upper</th></tr></thead>\n",
       "<tbody>\n",
       "\t<tr><td>0.2876613</td><td>0.3020674</td><td>0.3164736</td></tr>\n",
       "\t<tr><td>0.3336736</td><td>0.3505219</td><td>0.3673702</td></tr>\n",
       "</tbody>\n",
       "</table>\n"
      ],
      "text/latex": [
       "\\begin{tabular}{lll}\n",
       " lower & mean & upper\\\\\n",
       "\\hline\n",
       "\t 0.2876613 & 0.3020674 & 0.3164736\\\\\n",
       "\t 0.3336736 & 0.3505219 & 0.3673702\\\\\n",
       "\\end{tabular}\n"
      ],
      "text/markdown": [
       "\n",
       "| lower | mean | upper |\n",
       "|---|---|---|\n",
       "| 0.2876613 | 0.3020674 | 0.3164736 |\n",
       "| 0.3336736 | 0.3505219 | 0.3673702 |\n",
       "\n"
      ],
      "text/plain": [
       "     lower     mean      upper    \n",
       "[1,] 0.2876613 0.3020674 0.3164736\n",
       "[2,] 0.3336736 0.3505219 0.3673702"
      ]
     },
     "metadata": {},
     "output_type": "display_data"
    },
    {
     "data": {
      "text/html": [
       "0.56"
      ],
      "text/latex": [
       "0.56"
      ],
      "text/markdown": [
       "0.56"
      ],
      "text/plain": [
       "[1] 0.56"
      ]
     },
     "metadata": {},
     "output_type": "display_data"
    }
   ],
   "source": [
    "trt.effs <- lapply(post.res, function(i)i$mtrt)\n",
    "trt.effs.mat <- do.call(rbind, trt.effs)\n",
    "errs <- abs(trt.effs.mat - b)\n",
    "rbind(CI.fn(errs[, 1]), CI.fn(errs[, 2]))\n",
    "mean(errs[, 1] < errs[, 2])"
   ]
  },
  {
   "cell_type": "code",
   "execution_count": 291,
   "metadata": {},
   "outputs": [
    {
     "data": {
      "text/html": [
       "<dl class=dl-horizontal>\n",
       "\t<dt>Borrow</dt>\n",
       "\t\t<dd>0.961</dd>\n",
       "\t<dt>No Borrow</dt>\n",
       "\t\t<dd>0.941</dd>\n",
       "</dl>\n"
      ],
      "text/latex": [
       "\\begin{description*}\n",
       "\\item[Borrow] 0.961\n",
       "\\item[No Borrow] 0.941\n",
       "\\end{description*}\n"
      ],
      "text/markdown": [
       "Borrow\n",
       ":   0.961No Borrow\n",
       ":   0.941\n",
       "\n"
      ],
      "text/plain": [
       "   Borrow No Borrow \n",
       "    0.961     0.941 "
      ]
     },
     "metadata": {},
     "output_type": "display_data"
    }
   ],
   "source": [
    "b = 2.5\n",
    "c.res <- paste0(\"Res_test_b_\", b, \".RData\")\n",
    "load(c.res)\n",
    "probMat <- sapply(post.res, post.b.fn)\n",
    "power <- mean(probMat[1, ] > eps0)\n",
    "power.no <- mean(probMat[2,] > eps0.no)\n",
    "powers <- c(power, power.no)\n",
    "names(powers) <- c(\"Borrow\", \"No Borrow\")\n",
    "powers"
   ]
  },
  {
   "cell_type": "code",
   "execution_count": 292,
   "metadata": {},
   "outputs": [
    {
     "data": {
      "text/html": [
       "<table>\n",
       "<thead><tr><th scope=col>lower</th><th scope=col>mean</th><th scope=col>upper</th></tr></thead>\n",
       "<tbody>\n",
       "\t<tr><td>0.2800255</td><td>0.2944042</td><td>0.3087828</td></tr>\n",
       "\t<tr><td>0.3547282</td><td>0.3717781</td><td>0.3888280</td></tr>\n",
       "</tbody>\n",
       "</table>\n"
      ],
      "text/latex": [
       "\\begin{tabular}{lll}\n",
       " lower & mean & upper\\\\\n",
       "\\hline\n",
       "\t 0.2800255 & 0.2944042 & 0.3087828\\\\\n",
       "\t 0.3547282 & 0.3717781 & 0.3888280\\\\\n",
       "\\end{tabular}\n"
      ],
      "text/markdown": [
       "\n",
       "| lower | mean | upper |\n",
       "|---|---|---|\n",
       "| 0.2800255 | 0.2944042 | 0.3087828 |\n",
       "| 0.3547282 | 0.3717781 | 0.3888280 |\n",
       "\n"
      ],
      "text/plain": [
       "     lower     mean      upper    \n",
       "[1,] 0.2800255 0.2944042 0.3087828\n",
       "[2,] 0.3547282 0.3717781 0.3888280"
      ]
     },
     "metadata": {},
     "output_type": "display_data"
    },
    {
     "data": {
      "text/html": [
       "0.566"
      ],
      "text/latex": [
       "0.566"
      ],
      "text/markdown": [
       "0.566"
      ],
      "text/plain": [
       "[1] 0.566"
      ]
     },
     "metadata": {},
     "output_type": "display_data"
    }
   ],
   "source": [
    "trt.effs <- lapply(post.res, function(i)i$mtrt)\n",
    "trt.effs.mat <- do.call(rbind, trt.effs)\n",
    "errs <- abs(trt.effs.mat - b)\n",
    "rbind(CI.fn(errs[, 1]), CI.fn(errs[, 2]))\n",
    "mean(errs[, 1] < errs[, 2])"
   ]
  },
  {
   "cell_type": "code",
   "execution_count": 293,
   "metadata": {},
   "outputs": [
    {
     "data": {
      "text/html": [
       "<dl class=dl-horizontal>\n",
       "\t<dt>Borrow</dt>\n",
       "\t\t<dd>0.964</dd>\n",
       "\t<dt>No Borrow</dt>\n",
       "\t\t<dd>0.966</dd>\n",
       "</dl>\n"
      ],
      "text/latex": [
       "\\begin{description*}\n",
       "\\item[Borrow] 0.964\n",
       "\\item[No Borrow] 0.966\n",
       "\\end{description*}\n"
      ],
      "text/markdown": [
       "Borrow\n",
       ":   0.964No Borrow\n",
       ":   0.966\n",
       "\n"
      ],
      "text/plain": [
       "   Borrow No Borrow \n",
       "    0.964     0.966 "
      ]
     },
     "metadata": {},
     "output_type": "display_data"
    }
   ],
   "source": [
    "b = 3\n",
    "c.res <- paste0(\"Res_test_b_\", b, \".RData\")\n",
    "load(c.res)\n",
    "probMat <- sapply(post.res, post.b.fn)\n",
    "power <- mean(probMat[1, ] > eps0)\n",
    "power.no <- mean(probMat[2,] > eps0.no)\n",
    "powers <- c(power, power.no)\n",
    "names(powers) <- c(\"Borrow\", \"No Borrow\")\n",
    "powers"
   ]
  },
  {
   "cell_type": "code",
   "execution_count": 294,
   "metadata": {},
   "outputs": [
    {
     "data": {
      "text/html": [
       "<table>\n",
       "<thead><tr><th scope=col>lower</th><th scope=col>mean</th><th scope=col>upper</th></tr></thead>\n",
       "<tbody>\n",
       "\t<tr><td>0.2986549</td><td>0.3129298</td><td>0.3272046</td></tr>\n",
       "\t<tr><td>0.3454729</td><td>0.3628235</td><td>0.3801741</td></tr>\n",
       "</tbody>\n",
       "</table>\n"
      ],
      "text/latex": [
       "\\begin{tabular}{lll}\n",
       " lower & mean & upper\\\\\n",
       "\\hline\n",
       "\t 0.2986549 & 0.3129298 & 0.3272046\\\\\n",
       "\t 0.3454729 & 0.3628235 & 0.3801741\\\\\n",
       "\\end{tabular}\n"
      ],
      "text/markdown": [
       "\n",
       "| lower | mean | upper |\n",
       "|---|---|---|\n",
       "| 0.2986549 | 0.3129298 | 0.3272046 |\n",
       "| 0.3454729 | 0.3628235 | 0.3801741 |\n",
       "\n"
      ],
      "text/plain": [
       "     lower     mean      upper    \n",
       "[1,] 0.2986549 0.3129298 0.3272046\n",
       "[2,] 0.3454729 0.3628235 0.3801741"
      ]
     },
     "metadata": {},
     "output_type": "display_data"
    },
    {
     "data": {
      "text/html": [
       "0.548"
      ],
      "text/latex": [
       "0.548"
      ],
      "text/markdown": [
       "0.548"
      ],
      "text/plain": [
       "[1] 0.548"
      ]
     },
     "metadata": {},
     "output_type": "display_data"
    }
   ],
   "source": [
    "trt.effs <- lapply(post.res, function(i)i$mtrt)\n",
    "trt.effs.mat <- do.call(rbind, trt.effs)\n",
    "errs <- abs(trt.effs.mat - b)\n",
    "rbind(CI.fn(errs[, 1]), CI.fn(errs[, 2]))\n",
    "mean(errs[, 1] < errs[, 2])"
   ]
  },
  {
   "cell_type": "code",
   "execution_count": 295,
   "metadata": {},
   "outputs": [
    {
     "data": {
      "text/html": [
       "<dl class=dl-horizontal>\n",
       "\t<dt>Borrow</dt>\n",
       "\t\t<dd>0.97</dd>\n",
       "\t<dt>No Borrow</dt>\n",
       "\t\t<dd>0.97</dd>\n",
       "</dl>\n"
      ],
      "text/latex": [
       "\\begin{description*}\n",
       "\\item[Borrow] 0.97\n",
       "\\item[No Borrow] 0.97\n",
       "\\end{description*}\n"
      ],
      "text/markdown": [
       "Borrow\n",
       ":   0.97No Borrow\n",
       ":   0.97\n",
       "\n"
      ],
      "text/plain": [
       "   Borrow No Borrow \n",
       "     0.97      0.97 "
      ]
     },
     "metadata": {},
     "output_type": "display_data"
    }
   ],
   "source": [
    "b = 4\n",
    "c.res <- paste0(\"Res_test_b_\", b, \".RData\")\n",
    "load(c.res)\n",
    "probMat <- sapply(post.res, post.b.fn)\n",
    "power <- mean(probMat[1, ] > eps0)\n",
    "power.no <- mean(probMat[2,] > eps0.no)\n",
    "powers <- c(power, power.no)\n",
    "names(powers) <- c(\"Borrow\", \"No Borrow\")\n",
    "powers"
   ]
  },
  {
   "cell_type": "code",
   "execution_count": 296,
   "metadata": {},
   "outputs": [
    {
     "data": {
      "text/html": [
       "<table>\n",
       "<thead><tr><th scope=col>lower</th><th scope=col>mean</th><th scope=col>upper</th></tr></thead>\n",
       "<tbody>\n",
       "\t<tr><td>0.2913936</td><td>0.3057396</td><td>0.3200855</td></tr>\n",
       "\t<tr><td>0.3403670</td><td>0.3570090</td><td>0.3736510</td></tr>\n",
       "</tbody>\n",
       "</table>\n"
      ],
      "text/latex": [
       "\\begin{tabular}{lll}\n",
       " lower & mean & upper\\\\\n",
       "\\hline\n",
       "\t 0.2913936 & 0.3057396 & 0.3200855\\\\\n",
       "\t 0.3403670 & 0.3570090 & 0.3736510\\\\\n",
       "\\end{tabular}\n"
      ],
      "text/markdown": [
       "\n",
       "| lower | mean | upper |\n",
       "|---|---|---|\n",
       "| 0.2913936 | 0.3057396 | 0.3200855 |\n",
       "| 0.3403670 | 0.3570090 | 0.3736510 |\n",
       "\n"
      ],
      "text/plain": [
       "     lower     mean      upper    \n",
       "[1,] 0.2913936 0.3057396 0.3200855\n",
       "[2,] 0.3403670 0.3570090 0.3736510"
      ]
     },
     "metadata": {},
     "output_type": "display_data"
    },
    {
     "data": {
      "text/html": [
       "0.549"
      ],
      "text/latex": [
       "0.549"
      ],
      "text/markdown": [
       "0.549"
      ],
      "text/plain": [
       "[1] 0.549"
      ]
     },
     "metadata": {},
     "output_type": "display_data"
    }
   ],
   "source": [
    "trt.effs <- lapply(post.res, function(i)i$mtrt)\n",
    "trt.effs.mat <- do.call(rbind, trt.effs)\n",
    "errs <- abs(trt.effs.mat - b)\n",
    "rbind(CI.fn(errs[, 1]), CI.fn(errs[, 2]))\n",
    "mean(errs[, 1] < errs[, 2])"
   ]
  },
  {
   "cell_type": "code",
   "execution_count": null,
   "metadata": {},
   "outputs": [],
   "source": []
  },
  {
   "cell_type": "markdown",
   "metadata": {},
   "source": [
    "### Power size when beta is not equal to alp"
   ]
  },
  {
   "cell_type": "code",
   "execution_count": 355,
   "metadata": {},
   "outputs": [],
   "source": [
    "# parameters for current data \n",
    "betass <- list(\n",
    "              para1=c(2, 1, -1, 3, -2), \n",
    "              para2=c(3, 1, 2, 4, 2), \n",
    "              para3=c(0, -1, -1, 3, 2), \n",
    "              para4=c(2, 0, -1, 4, -2)\n",
    "                  )\n",
    "\n",
    "# parameters for historical data\n",
    "alpss <-  list(para1=c(2, 1, -1, 3, -2), \n",
    "             para2=c(0, -1, -1, 3, 2), \n",
    "             para3=c(3, 1, 2, 4, 2), \n",
    "             para4=c(2, 0, -1, 4, -2) )\n",
    "b <- 3.0\n",
    "phi0 = phi1 = 2\n",
    "N <- 100 # total sample size\n",
    "# parameters\n",
    "lam <- 0.1\n",
    "hs <- rep(2.1, 4)\n",
    "x.tps <- c(2, 2, \"c\", \"c\")\n",
    "#x.tps <- c(2, 2, 2, 2)\n",
    "\n",
    "tXs <- gen.Data.Xs(1000, x.tps)\n",
    "H <- diag(c(0.1, 0.1, 0.1, 0.1)/2)\n",
    "\n",
    "# initial dataset\n",
    "n0 <- 20\n",
    "\n",
    "# for hypothesis test\n",
    "# to calculate the prob\n",
    "M <- 1000"
   ]
  },
  {
   "cell_type": "code",
   "execution_count": 356,
   "metadata": {},
   "outputs": [],
   "source": [
    "nSimu <- 1000\n",
    "post.res <- mclapply(1:nSimu, fun.test, mc.cores=60)\n",
    "sv.name <- paste0(\"Diff_Res_test_b_\", b, \".RData\")\n",
    "save(post.res, file=sv.name)"
   ]
  },
  {
   "cell_type": "code",
   "execution_count": 378,
   "metadata": {},
   "outputs": [],
   "source": [
    "# for hypothesis test\n",
    "dlt0 <- 1\n",
    "# eps0 and eps0.no are tuned such that the size is 0.05 \n",
    "eps0 <- 0.510\n",
    "eps0.no <- 0.506"
   ]
  },
  {
   "cell_type": "code",
   "execution_count": 379,
   "metadata": {},
   "outputs": [],
   "source": [
    "post.fn <- function(trts){\n",
    "    prob <- mean(trts > dlt0)\n",
    "    prob\n",
    "}\n",
    "\n",
    "post.b.fn <- function(res){\n",
    "    sps.trts <- res$sps.trts\n",
    "    trtsMat <- do.call(rbind, sps.trts)\n",
    "    prb <- post.fn(trtsMat[, 1])\n",
    "    prb.no <- post.fn(trtsMat[, 2])\n",
    "    c(prb, prb.no)\n",
    "}"
   ]
  },
  {
   "cell_type": "code",
   "execution_count": 385,
   "metadata": {},
   "outputs": [
    {
     "data": {
      "text/html": [
       "<dl class=dl-horizontal>\n",
       "\t<dt>Borrow</dt>\n",
       "\t\t<dd>0.901</dd>\n",
       "\t<dt>No Borrow</dt>\n",
       "\t\t<dd>0.944</dd>\n",
       "</dl>\n"
      ],
      "text/latex": [
       "\\begin{description*}\n",
       "\\item[Borrow] 0.901\n",
       "\\item[No Borrow] 0.944\n",
       "\\end{description*}\n"
      ],
      "text/markdown": [
       "Borrow\n",
       ":   0.901No Borrow\n",
       ":   0.944\n",
       "\n"
      ],
      "text/plain": [
       "   Borrow No Borrow \n",
       "    0.901     0.944 "
      ]
     },
     "metadata": {},
     "output_type": "display_data"
    }
   ],
   "source": [
    "b = 3\n",
    "c.res <- paste0(\"Diff_Res_test_b_\", b, \".RData\")\n",
    "load(c.res)\n",
    "probMat <- sapply(post.res, post.b.fn)\n",
    "power <- mean(probMat[1, ] > eps0)\n",
    "power.no <- mean(probMat[2,] > eps0.no)\n",
    "powers <- c(power, power.no)\n",
    "names(powers) <- c(\"Borrow\", \"No Borrow\")\n",
    "powers"
   ]
  },
  {
   "cell_type": "code",
   "execution_count": 381,
   "metadata": {},
   "outputs": [
    {
     "data": {
      "text/html": [
       "<table>\n",
       "<thead><tr><th scope=col>lower</th><th scope=col>mean</th><th scope=col>upper</th></tr></thead>\n",
       "<tbody>\n",
       "\t<tr><td>0.3346243</td><td>0.3509774</td><td>0.3673304</td></tr>\n",
       "\t<tr><td>0.3380078</td><td>0.3549688</td><td>0.3719298</td></tr>\n",
       "</tbody>\n",
       "</table>\n"
      ],
      "text/latex": [
       "\\begin{tabular}{lll}\n",
       " lower & mean & upper\\\\\n",
       "\\hline\n",
       "\t 0.3346243 & 0.3509774 & 0.3673304\\\\\n",
       "\t 0.3380078 & 0.3549688 & 0.3719298\\\\\n",
       "\\end{tabular}\n"
      ],
      "text/markdown": [
       "\n",
       "| lower | mean | upper |\n",
       "|---|---|---|\n",
       "| 0.3346243 | 0.3509774 | 0.3673304 |\n",
       "| 0.3380078 | 0.3549688 | 0.3719298 |\n",
       "\n"
      ],
      "text/plain": [
       "     lower     mean      upper    \n",
       "[1,] 0.3346243 0.3509774 0.3673304\n",
       "[2,] 0.3380078 0.3549688 0.3719298"
      ]
     },
     "metadata": {},
     "output_type": "display_data"
    },
    {
     "data": {
      "text/html": [
       "0.509"
      ],
      "text/latex": [
       "0.509"
      ],
      "text/markdown": [
       "0.509"
      ],
      "text/plain": [
       "[1] 0.509"
      ]
     },
     "metadata": {},
     "output_type": "display_data"
    }
   ],
   "source": [
    "trt.effs <- lapply(post.res, function(i)i$mtrt)\n",
    "trt.effs.mat <- do.call(rbind, trt.effs)\n",
    "errs <- abs(trt.effs.mat - b)\n",
    "rbind(CI.fn(errs[, 1]), CI.fn(errs[, 2]))\n",
    "mean(errs[, 1] < errs[, 2])"
   ]
  },
  {
   "cell_type": "code",
   "execution_count": null,
   "metadata": {},
   "outputs": [],
   "source": []
  }
 ],
 "metadata": {
  "kernelspec": {
   "display_name": "R",
   "language": "R",
   "name": "ir"
  },
  "language_info": {
   "codemirror_mode": "r",
   "file_extension": ".r",
   "mimetype": "text/x-r-source",
   "name": "R",
   "pygments_lexer": "r",
   "version": "3.6.1"
  }
 },
 "nbformat": 4,
 "nbformat_minor": 2
}
